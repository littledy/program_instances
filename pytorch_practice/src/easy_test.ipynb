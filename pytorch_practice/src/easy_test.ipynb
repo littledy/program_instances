{
 "cells": [
  {
   "cell_type": "code",
   "execution_count": 3,
   "metadata": {},
   "outputs": [
    {
     "data": {
      "text/plain": [
       "[2, 3]"
      ]
     },
     "execution_count": 3,
     "metadata": {},
     "output_type": "execute_result"
    }
   ],
   "source": [
    "a = [1, 2, 3]\n",
    "b = [2, 3, 5]\n",
    "c = []\n",
    "for i in a:\n",
    "    if i in b:\n",
    "        c.append(i)\n",
    "\n",
    "c"
   ]
  },
  {
   "cell_type": "code",
   "execution_count": 8,
   "metadata": {},
   "outputs": [
    {
     "name": "stdout",
     "output_type": "stream",
     "text": [
      "tensor([1, 2, 3])\n",
      "torch.Size([3])\n",
      "tensor([[1, 2, 3]])\n",
      "torch.Size([1, 3])\n",
      "torch.Size([4, 28, 28, 3])\n"
     ]
    }
   ],
   "source": [
    "import torch\n",
    "\n",
    "b = torch.tensor([1, 2, 3])\n",
    "print(b)\n",
    "print(b.size())\n",
    "B = torch.unsqueeze(b, 0)\n",
    "print(B)\n",
    "print(B.size())\n",
    "\n",
    "img = torch.randn([28, 28, 3])\n",
    "img_expand = img.expand([4, -1, -1, -1])\n",
    "print(img_expand.size())"
   ]
  }
 ],
 "metadata": {
  "kernelspec": {
   "display_name": "Python 3 (ipykernel)",
   "language": "python",
   "name": "python3"
  },
  "language_info": {
   "codemirror_mode": {
    "name": "ipython",
    "version": 3
   },
   "file_extension": ".py",
   "mimetype": "text/x-python",
   "name": "python",
   "nbconvert_exporter": "python",
   "pygments_lexer": "ipython3",
   "version": "3.8.13"
  },
  "orig_nbformat": 4
 },
 "nbformat": 4,
 "nbformat_minor": 2
}

{
 "cells": [
  {
   "cell_type": "code",
   "execution_count": 1,
   "metadata": {},
   "outputs": [],
   "source": [
    "import torch\n",
    "import torch.nn as nn\n",
    "from torch.autograd import Variable\n",
    "import torch.optim as optim\n",
    "import torch.nn.functional as F\n",
    "\n",
    "import torchvision.datasets as dsets\n",
    "import torchvision.transforms as transforms\n",
    "\n",
    "import matplotlib.pyplot as plt\n",
    "import numpy as np\n",
    "\n",
    "%matplotlib inline\n",
    "\n",
    "import os\n",
    "os.chdir('/Users/dengyi/Desktop/program_instances/pytorch_practice')"
   ]
  },
  {
   "cell_type": "code",
   "execution_count": 2,
   "metadata": {},
   "outputs": [],
   "source": [
    "image_size = 28\n",
    "num_classes = 10\n",
    "num_epoches = 20\n",
    "batch_size = 64"
   ]
  },
  {
   "cell_type": "code",
   "execution_count": 3,
   "metadata": {},
   "outputs": [],
   "source": [
    "train_dataset = dsets.MNIST(root='./data', train=True, transform=transforms.ToTensor(), download=True)\n",
    "test_dataset = dsets.MNIST(root='./data', train=False, transform=transforms.ToTensor())\n",
    "\n",
    "train_loader = torch.utils.data.DataLoader(dataset=train_dataset, batch_size=batch_size, shuffle=True)"
   ]
  },
  {
   "cell_type": "code",
   "execution_count": 4,
   "metadata": {},
   "outputs": [],
   "source": [
    "indices = range(len(test_dataset))\n",
    "indices_val = indices[:5000]\n",
    "indices_test = indices[5000:]"
   ]
  },
  {
   "cell_type": "code",
   "execution_count": 5,
   "metadata": {},
   "outputs": [],
   "source": [
    "sampler_val = torch.utils.data.sampler.SubsetRandomSampler(indices_val)\n",
    "sampler_test = torch.utils.data.sampler.SubsetRandomSampler(indices_test)\n",
    "\n",
    "validation_loader = torch.utils.data.DataLoader(dataset=test_dataset, batch_size=batch_size, sampler=sampler_val)\n",
    "test_loader = torch.utils.data.DataLoader(dataset=test_dataset, batch_size=batch_size, sampler=sampler_test)"
   ]
  },
  {
   "cell_type": "code",
   "execution_count": 6,
   "metadata": {},
   "outputs": [
    {
     "name": "stdout",
     "output_type": "stream",
     "text": [
      "标签是： 5\n"
     ]
    },
    {
     "data": {
      "image/png": "[encoded data removed]",
      "text/plain": [
       "<Figure size 640x480 with 1 Axes>"
      ]
     },
     "metadata": {},
     "output_type": "display_data"
    }
   ],
   "source": [
    "idx = 100\n",
    "muteimg = train_dataset[idx][0].numpy()\n",
    "\n",
    "plt.imshow(muteimg[0,...], cmap='gray')\n",
    "print('标签是：', train_dataset[idx][1])"
   ]
  },
  {
   "cell_type": "code",
   "execution_count": 7,
   "metadata": {},
   "outputs": [],
   "source": [
    "depth = [4, 8]\n",
    "class ConvNet(nn.Module):\n",
    "    def __init__(self):\n",
    "        super(ConvNet, self).__init__()\n",
    "        self.conv1 = nn.Conv2d(1, 4, 5, padding=2)\n",
    "        self.pool = nn.MaxPool2d(2, 2)\n",
    "        self.conv2 = nn.Conv2d(depth[0], depth[1], 5, padding=2)\n",
    "        self.fc1 = nn.Linear(image_size//4*image_size//4*depth[1], 512)\n",
    "        self.fc2 = nn.Linear(512, num_classes)\n",
    "\n",
    "    def forward(self, x):\n",
    "        x = F.relu(self.conv1(x))\n",
    "        x = self.pool(x)\n",
    "        x = F.relu(self.conv2(x))\n",
    "        x = self.pool(x)\n",
    "        x = x.view(-1, image_size//4*image_size//4*depth[1])\n",
    "        x = F.relu(self.fc1(x))\n",
    "        x = F.dropout(x, training=self.training)\n",
    "        x = self.fc2(x)\n",
    "        x = F.log_softmax(x, dim=1)\n",
    "        return x\n",
    "\n",
    "    def retrieve_features(self, x):\n",
    "        feature_map1 = F.relu(self.conv1(x))\n",
    "        x = self.pool(feature_map1)\n",
    "        feature_map2 = F.relu(self.conv2(x))\n",
    "        return (feature_map1, feature_map2)"
   ]
  },
  {
   "cell_type": "code",
   "execution_count": 8,
   "metadata": {},
   "outputs": [],
   "source": [
    "def rightness(predictions, labels):\n",
    "    pred = torch.max(predictions.data, 1)[1]\n",
    "    rights = pred.eq(labels.data.view_as(pred)).sum()\n",
    "    return rights, len(labels)"
   ]
  },
  {
   "cell_type": "code",
   "execution_count": 9,
   "metadata": {},
   "outputs": [],
   "source": [
    "net = ConvNet()\n",
    "criterion = nn.CrossEntropyLoss()\n",
    "optimizer = optim.SGD(net.parameters(), lr=0.001, momentum=0.9)"
   ]
  },
  {
   "cell_type": "code",
   "execution_count": 10,
   "metadata": {},
   "outputs": [],
   "source": [
    "def train_model(data, target):\n",
    "    net.train()\n",
    "    output = net(data)\n",
    "    loss = criterion(output, target)\n",
    "    optimizer.zero_grad()\n",
    "    loss.backward()\n",
    "    optimizer.step()\n",
    "    right = rightness(output, target)\n",
    "    return right, loss"
   ]
  },
  {
   "cell_type": "code",
   "execution_count": 11,
   "metadata": {},
   "outputs": [],
   "source": [
    "def evaluate_model():\n",
    "    net.eval()\n",
    "    val_rights = []\n",
    "    for (data, target) in validation_loader:\n",
    "        data, target = Variable(data), Variable(target)\n",
    "        output = net(data)\n",
    "        right = rightness(output, target)\n",
    "        val_rights.append(right)\n",
    "    \n",
    "    return val_rights"
   ]
  },
  {
   "cell_type": "code",
   "execution_count": 12,
   "metadata": {},
   "outputs": [
    {
     "name": "stdout",
     "output_type": "stream",
     "text": [
      "训练周期：0 [0/60000(0%)]\tLoss: 2.296630\t训练正确率：10.94%\t校验正确率：10.16%\n",
      "训练周期：0 [6400/60000(11%)]\tLoss: 2.301968\t训练正确率：10.35%\t校验正确率：10.02%\n",
      "训练周期：0 [12800/60000(21%)]\tLoss: 2.299085\t训练正确率：10.55%\t校验正确率：14.14%\n",
      "训练周期：0 [19200/60000(32%)]\tLoss: 2.301116\t训练正确率：11.06%\t校验正确率：11.52%\n",
      "训练周期：0 [25600/60000(43%)]\tLoss: 2.301251\t训练正确率：11.71%\t校验正确率：11.52%\n",
      "训练周期：0 [32000/60000(53%)]\tLoss: 2.291829\t训练正确率：12.06%\t校验正确率：11.42%\n",
      "训练周期：0 [38400/60000(64%)]\tLoss: 2.293775\t训练正确率：12.24%\t校验正确率：11.44%\n",
      "训练周期：0 [44800/60000(75%)]\tLoss: 2.298847\t训练正确率：12.43%\t校验正确率：11.42%\n",
      "训练周期：0 [51200/60000(85%)]\tLoss: 2.306074\t训练正确率：12.31%\t校验正确率：11.42%\n",
      "训练周期：0 [57600/60000(96%)]\tLoss: 2.292087\t训练正确率：12.34%\t校验正确率：11.42%\n",
      "训练周期：1 [0/60000(0%)]\tLoss: 2.290462\t训练正确率：20.31%\t校验正确率：11.44%\n",
      "训练周期：1 [6400/60000(11%)]\tLoss: 2.270902\t训练正确率：13.03%\t校验正确率：11.46%\n",
      "训练周期：1 [12800/60000(21%)]\tLoss: 2.292351\t训练正确率：14.20%\t校验正确率：11.84%\n",
      "训练周期：1 [19200/60000(32%)]\tLoss: 2.283882\t训练正确率：15.48%\t校验正确率：17.70%\n",
      "训练周期：1 [25600/60000(43%)]\tLoss: 2.262953\t训练正确率：17.55%\t校验正确率：23.38%\n",
      "训练周期：1 [32000/60000(53%)]\tLoss: 2.220278\t训练正确率：19.72%\t校验正确率：28.74%\n",
      "训练周期：1 [38400/60000(64%)]\tLoss: 2.169335\t训练正确率：22.65%\t校验正确率：45.42%\n",
      "训练周期：1 [44800/60000(75%)]\tLoss: 1.983517\t训练正确率：26.25%\t校验正确率：61.18%\n",
      "训练周期：1 [51200/60000(85%)]\tLoss: 1.639242\t训练正确率：30.11%\t校验正确率：66.28%\n",
      "训练周期：1 [57600/60000(96%)]\tLoss: 0.935247\t训练正确率：34.42%\t校验正确率：76.12%\n",
      "训练周期：2 [0/60000(0%)]\tLoss: 0.978607\t训练正确率：71.88%\t校验正确率：79.74%\n",
      "训练周期：2 [6400/60000(11%)]\tLoss: 0.424830\t训练正确率：79.24%\t校验正确率：84.24%\n",
      "训练周期：2 [12800/60000(21%)]\tLoss: 0.586945\t训练正确率：81.66%\t校验正确率：86.02%\n",
      "训练周期：2 [19200/60000(32%)]\tLoss: 0.569912\t训练正确率：83.28%\t校验正确率：87.76%\n",
      "训练周期：2 [25600/60000(43%)]\tLoss: 0.579011\t训练正确率：84.50%\t校验正确率：89.34%\n",
      "训练周期：2 [32000/60000(53%)]\tLoss: 0.284244\t训练正确率：85.44%\t校验正确率：90.06%\n",
      "训练周期：2 [38400/60000(64%)]\tLoss: 0.205403\t训练正确率：86.21%\t校验正确率：90.76%\n",
      "训练周期：2 [44800/60000(75%)]\tLoss: 0.195505\t训练正确率：86.86%\t校验正确率：91.58%\n",
      "训练周期：2 [51200/60000(85%)]\tLoss: 0.368561\t训练正确率：87.36%\t校验正确率：91.58%\n",
      "训练周期：2 [57600/60000(96%)]\tLoss: 0.158325\t训练正确率：87.84%\t校验正确率：92.00%\n",
      "训练周期：3 [0/60000(0%)]\tLoss: 0.278099\t训练正确率：92.19%\t校验正确率：92.54%\n",
      "训练周期：3 [6400/60000(11%)]\tLoss: 0.261786\t训练正确率：92.28%\t校验正确率：93.04%\n",
      "训练周期：3 [12800/60000(21%)]\tLoss: 0.391032\t训练正确率：92.75%\t校验正确率：92.72%\n",
      "训练周期：3 [19200/60000(32%)]\tLoss: 0.103981\t训练正确率：92.96%\t校验正确率：93.52%\n",
      "训练周期：3 [25600/60000(43%)]\tLoss: 0.228334\t训练正确率：93.19%\t校验正确率：93.82%\n",
      "训练周期：3 [32000/60000(53%)]\tLoss: 0.160628\t训练正确率：93.28%\t校验正确率：94.04%\n",
      "训练周期：3 [38400/60000(64%)]\tLoss: 0.174552\t训练正确率：93.34%\t校验正确率：93.96%\n",
      "训练周期：3 [44800/60000(75%)]\tLoss: 0.158167\t训练正确率：93.40%\t校验正确率：94.12%\n",
      "训练周期：3 [51200/60000(85%)]\tLoss: 0.265511\t训练正确率：93.46%\t校验正确率：94.50%\n",
      "训练周期：3 [57600/60000(96%)]\tLoss: 0.077547\t训练正确率：93.56%\t校验正确率：94.70%\n",
      "训练周期：4 [0/60000(0%)]\tLoss: 0.254666\t训练正确率：93.75%\t校验正确率：94.56%\n",
      "训练周期：4 [6400/60000(11%)]\tLoss: 0.228136\t训练正确率：94.34%\t校验正确率：94.62%\n",
      "训练周期：4 [12800/60000(21%)]\tLoss: 0.074826\t训练正确率：94.60%\t校验正确率：94.94%\n",
      "训练周期：4 [19200/60000(32%)]\tLoss: 0.119106\t训练正确率：94.74%\t校验正确率：95.02%\n",
      "训练周期：4 [25600/60000(43%)]\tLoss: 0.216175\t训练正确率：94.84%\t校验正确率：94.94%\n",
      "训练周期：4 [32000/60000(53%)]\tLoss: 0.087020\t训练正确率：94.96%\t校验正确率：95.34%\n",
      "训练周期：4 [38400/60000(64%)]\tLoss: 0.388269\t训练正确率：95.05%\t校验正确率：95.44%\n",
      "训练周期：4 [44800/60000(75%)]\tLoss: 0.082633\t训练正确率：95.10%\t校验正确率：95.28%\n",
      "训练周期：4 [51200/60000(85%)]\tLoss: 0.185067\t训练正确率：95.14%\t校验正确率：95.54%\n",
      "训练周期：4 [57600/60000(96%)]\tLoss: 0.101412\t训练正确率：95.17%\t校验正确率：95.60%\n",
      "训练周期：5 [0/60000(0%)]\tLoss: 0.088997\t训练正确率：96.88%\t校验正确率：95.96%\n",
      "训练周期：5 [6400/60000(11%)]\tLoss: 0.113308\t训练正确率：96.13%\t校验正确率：95.76%\n",
      "训练周期：5 [12800/60000(21%)]\tLoss: 0.114951\t训练正确率：95.80%\t校验正确率：96.06%\n",
      "训练周期：5 [19200/60000(32%)]\tLoss: 0.037792\t训练正确率：95.86%\t校验正确率：96.24%\n",
      "训练周期：5 [25600/60000(43%)]\tLoss: 0.196174\t训练正确率：95.78%\t校验正确率：96.04%\n",
      "训练周期：5 [32000/60000(53%)]\tLoss: 0.076889\t训练正确率：95.88%\t校验正确率：96.18%\n",
      "训练周期：5 [38400/60000(64%)]\tLoss: 0.045088\t训练正确率：95.92%\t校验正确率：96.24%\n",
      "训练周期：5 [44800/60000(75%)]\tLoss: 0.070011\t训练正确率：95.97%\t校验正确率：96.24%\n",
      "训练周期：5 [51200/60000(85%)]\tLoss: 0.187775\t训练正确率：95.95%\t校验正确率：96.52%\n",
      "训练周期：5 [57600/60000(96%)]\tLoss: 0.140812\t训练正确率：95.99%\t校验正确率：96.22%\n",
      "训练周期：6 [0/60000(0%)]\tLoss: 0.104342\t训练正确率：96.88%\t校验正确率：96.48%\n",
      "训练周期：6 [6400/60000(11%)]\tLoss: 0.164659\t训练正确率：96.52%\t校验正确率：96.42%\n",
      "训练周期：6 [12800/60000(21%)]\tLoss: 0.133501\t训练正确率：96.51%\t校验正确率：96.50%\n",
      "训练周期：6 [19200/60000(32%)]\tLoss: 0.055106\t训练正确率：96.45%\t校验正确率：96.70%\n",
      "训练周期：6 [25600/60000(43%)]\tLoss: 0.099154\t训练正确率：96.49%\t校验正确率：96.70%\n",
      "训练周期：6 [32000/60000(53%)]\tLoss: 0.121356\t训练正确率：96.46%\t校验正确率：96.68%\n",
      "训练周期：6 [38400/60000(64%)]\tLoss: 0.123029\t训练正确率：96.51%\t校验正确率：96.82%\n",
      "训练周期：6 [44800/60000(75%)]\tLoss: 0.086645\t训练正确率：96.53%\t校验正确率：96.90%\n",
      "训练周期：6 [51200/60000(85%)]\tLoss: 0.050601\t训练正确率：96.55%\t校验正确率：96.76%\n",
      "训练周期：6 [57600/60000(96%)]\tLoss: 0.067925\t训练正确率：96.56%\t校验正确率：96.92%\n",
      "训练周期：7 [0/60000(0%)]\tLoss: 0.163732\t训练正确率：98.44%\t校验正确率：96.82%\n",
      "训练周期：7 [6400/60000(11%)]\tLoss: 0.074484\t训练正确率：96.81%\t校验正确率：96.92%\n",
      "训练周期：7 [12800/60000(21%)]\tLoss: 0.080385\t训练正确率：96.85%\t校验正确率：96.94%\n",
      "训练周期：7 [19200/60000(32%)]\tLoss: 0.083043\t训练正确率：96.86%\t校验正确率：97.12%\n",
      "训练周期：7 [25600/60000(43%)]\tLoss: 0.095442\t训练正确率：96.88%\t校验正确率：97.16%\n",
      "训练周期：7 [32000/60000(53%)]\tLoss: 0.168378\t训练正确率：96.83%\t校验正确率：96.88%\n",
      "训练周期：7 [38400/60000(64%)]\tLoss: 0.043931\t训练正确率：96.86%\t校验正确率：97.12%\n",
      "训练周期：7 [44800/60000(75%)]\tLoss: 0.081729\t训练正确率：96.89%\t校验正确率：97.16%\n",
      "训练周期：7 [51200/60000(85%)]\tLoss: 0.268822\t训练正确率：96.94%\t校验正确率：97.22%\n",
      "训练周期：7 [57600/60000(96%)]\tLoss: 0.094048\t训练正确率：96.95%\t校验正确率：97.14%\n",
      "训练周期：8 [0/60000(0%)]\tLoss: 0.017387\t训练正确率：100.00%\t校验正确率：97.34%\n",
      "训练周期：8 [6400/60000(11%)]\tLoss: 0.222362\t训练正确率：97.35%\t校验正确率：97.12%\n",
      "训练周期：8 [12800/60000(21%)]\tLoss: 0.010097\t训练正确率：97.22%\t校验正确率：97.26%\n",
      "训练周期：8 [19200/60000(32%)]\tLoss: 0.081468\t训练正确率：97.12%\t校验正确率：97.22%\n",
      "训练周期：8 [25600/60000(43%)]\tLoss: 0.153015\t训练正确率：97.15%\t校验正确率：97.38%\n",
      "训练周期：8 [32000/60000(53%)]\tLoss: 0.144699\t训练正确率：97.20%\t校验正确率：97.46%\n",
      "训练周期：8 [38400/60000(64%)]\tLoss: 0.063214\t训练正确率：97.17%\t校验正确率：97.36%\n",
      "训练周期：8 [44800/60000(75%)]\tLoss: 0.068281\t训练正确率：97.20%\t校验正确率：97.26%\n",
      "训练周期：8 [51200/60000(85%)]\tLoss: 0.134932\t训练正确率：97.19%\t校验正确率：97.34%\n",
      "训练周期：8 [57600/60000(96%)]\tLoss: 0.171426\t训练正确率：97.17%\t校验正确率：97.34%\n",
      "训练周期：9 [0/60000(0%)]\tLoss: 0.042582\t训练正确率：100.00%\t校验正确率：97.44%\n",
      "训练周期：9 [6400/60000(11%)]\tLoss: 0.112784\t训练正确率：97.18%\t校验正确率：97.20%\n",
      "训练周期：9 [12800/60000(21%)]\tLoss: 0.041636\t训练正确率：97.24%\t校验正确率：97.42%\n",
      "训练周期：9 [19200/60000(32%)]\tLoss: 0.042939\t训练正确率：97.38%\t校验正确率：97.50%\n",
      "训练周期：9 [25600/60000(43%)]\tLoss: 0.089305\t训练正确率：97.36%\t校验正确率：97.48%\n",
      "训练周期：9 [32000/60000(53%)]\tLoss: 0.119830\t训练正确率：97.39%\t校验正确率：97.50%\n",
      "训练周期：9 [38400/60000(64%)]\tLoss: 0.060993\t训练正确率：97.42%\t校验正确率：97.52%\n",
      "训练周期：9 [44800/60000(75%)]\tLoss: 0.083494\t训练正确率：97.39%\t校验正确率：97.58%\n",
      "训练周期：9 [51200/60000(85%)]\tLoss: 0.168698\t训练正确率：97.40%\t校验正确率：97.34%\n",
      "训练周期：9 [57600/60000(96%)]\tLoss: 0.114807\t训练正确率：97.40%\t校验正确率：97.40%\n",
      "训练周期：10 [0/60000(0%)]\tLoss: 0.135819\t训练正确率：95.31%\t校验正确率：97.44%\n",
      "训练周期：10 [6400/60000(11%)]\tLoss: 0.108433\t训练正确率：97.73%\t校验正确率：97.40%\n",
      "训练周期：10 [12800/60000(21%)]\tLoss: 0.142764\t训练正确率：97.54%\t校验正确率：97.72%\n",
      "训练周期：10 [19200/60000(32%)]\tLoss: 0.072396\t训练正确率：97.53%\t校验正确率：97.62%\n",
      "训练周期：10 [25600/60000(43%)]\tLoss: 0.049396\t训练正确率：97.51%\t校验正确率：97.66%\n",
      "训练周期：10 [32000/60000(53%)]\tLoss: 0.084718\t训练正确率：97.49%\t校验正确率：97.70%\n",
      "训练周期：10 [38400/60000(64%)]\tLoss: 0.068932\t训练正确率：97.50%\t校验正确率：97.58%\n",
      "训练周期：10 [44800/60000(75%)]\tLoss: 0.048255\t训练正确率：97.52%\t校验正确率：97.68%\n",
      "训练周期：10 [51200/60000(85%)]\tLoss: 0.159838\t训练正确率：97.52%\t校验正确率：97.64%\n",
      "训练周期：10 [57600/60000(96%)]\tLoss: 0.039872\t训练正确率：97.54%\t校验正确率：97.66%\n",
      "训练周期：11 [0/60000(0%)]\tLoss: 0.060987\t训练正确率：98.44%\t校验正确率：97.68%\n",
      "训练周期：11 [6400/60000(11%)]\tLoss: 0.062844\t训练正确率：97.62%\t校验正确率：97.74%\n",
      "训练周期：11 [12800/60000(21%)]\tLoss: 0.072759\t训练正确率：97.78%\t校验正确率：97.62%\n",
      "训练周期：11 [19200/60000(32%)]\tLoss: 0.026766\t训练正确率：97.70%\t校验正确率：97.68%\n",
      "训练周期：11 [25600/60000(43%)]\tLoss: 0.130369\t训练正确率：97.73%\t校验正确率：97.62%\n",
      "训练周期：11 [32000/60000(53%)]\tLoss: 0.018399\t训练正确率：97.76%\t校验正确率：97.72%\n",
      "训练周期：11 [38400/60000(64%)]\tLoss: 0.023487\t训练正确率：97.73%\t校验正确率：97.62%\n",
      "训练周期：11 [44800/60000(75%)]\tLoss: 0.093294\t训练正确率：97.70%\t校验正确率：97.70%\n",
      "训练周期：11 [51200/60000(85%)]\tLoss: 0.118784\t训练正确率：97.75%\t校验正确率：97.68%\n",
      "训练周期：11 [57600/60000(96%)]\tLoss: 0.026695\t训练正确率：97.76%\t校验正确率：97.68%\n",
      "训练周期：12 [0/60000(0%)]\tLoss: 0.182159\t训练正确率：95.31%\t校验正确率：97.82%\n",
      "训练周期：12 [6400/60000(11%)]\tLoss: 0.172953\t训练正确率：97.66%\t校验正确率：97.60%\n",
      "训练周期：12 [12800/60000(21%)]\tLoss: 0.025738\t训练正确率：97.64%\t校验正确率：97.68%\n",
      "训练周期：12 [19200/60000(32%)]\tLoss: 0.098019\t训练正确率：97.76%\t校验正确率：97.72%\n",
      "训练周期：12 [25600/60000(43%)]\tLoss: 0.075776\t训练正确率：97.79%\t校验正确率：97.92%\n",
      "训练周期：12 [32000/60000(53%)]\tLoss: 0.046941\t训练正确率：97.84%\t校验正确率：97.82%\n",
      "训练周期：12 [38400/60000(64%)]\tLoss: 0.029183\t训练正确率：97.86%\t校验正确率：97.72%\n",
      "训练周期：12 [44800/60000(75%)]\tLoss: 0.109350\t训练正确率：97.85%\t校验正确率：97.68%\n",
      "训练周期：12 [51200/60000(85%)]\tLoss: 0.046537\t训练正确率：97.83%\t校验正确率：97.74%\n",
      "训练周期：12 [57600/60000(96%)]\tLoss: 0.038508\t训练正确率：97.83%\t校验正确率：97.78%\n",
      "训练周期：13 [0/60000(0%)]\tLoss: 0.202536\t训练正确率：95.31%\t校验正确率：97.72%\n",
      "训练周期：13 [6400/60000(11%)]\tLoss: 0.058227\t训练正确率：98.07%\t校验正确率：97.78%\n",
      "训练周期：13 [12800/60000(21%)]\tLoss: 0.070330\t训练正确率：97.96%\t校验正确率：97.86%\n",
      "训练周期：13 [19200/60000(32%)]\tLoss: 0.070500\t训练正确率：97.96%\t校验正确率：97.80%\n",
      "训练周期：13 [25600/60000(43%)]\tLoss: 0.087688\t训练正确率：97.95%\t校验正确率：97.88%\n",
      "训练周期：13 [32000/60000(53%)]\tLoss: 0.075348\t训练正确率：97.89%\t校验正确率：97.88%\n",
      "训练周期：13 [38400/60000(64%)]\tLoss: 0.039513\t训练正确率：97.88%\t校验正确率：97.84%\n",
      "训练周期：13 [44800/60000(75%)]\tLoss: 0.158948\t训练正确率：97.87%\t校验正确率：97.88%\n",
      "训练周期：13 [51200/60000(85%)]\tLoss: 0.118779\t训练正确率：97.94%\t校验正确率：97.86%\n",
      "训练周期：13 [57600/60000(96%)]\tLoss: 0.013142\t训练正确率：97.96%\t校验正确率：97.98%\n",
      "训练周期：14 [0/60000(0%)]\tLoss: 0.023611\t训练正确率：100.00%\t校验正确率：97.74%\n",
      "训练周期：14 [6400/60000(11%)]\tLoss: 0.010563\t训练正确率：98.08%\t校验正确率：97.88%\n",
      "训练周期：14 [12800/60000(21%)]\tLoss: 0.027592\t训练正确率：98.01%\t校验正确率：97.98%\n",
      "训练周期：14 [19200/60000(32%)]\tLoss: 0.094773\t训练正确率：98.01%\t校验正确率：98.00%\n",
      "训练周期：14 [25600/60000(43%)]\tLoss: 0.075382\t训练正确率：98.00%\t校验正确率：98.00%\n",
      "训练周期：14 [32000/60000(53%)]\tLoss: 0.092717\t训练正确率：98.00%\t校验正确率：97.88%\n",
      "训练周期：14 [38400/60000(64%)]\tLoss: 0.026208\t训练正确率：97.98%\t校验正确率：97.98%\n",
      "训练周期：14 [44800/60000(75%)]\tLoss: 0.018649\t训练正确率：98.01%\t校验正确率：97.90%\n",
      "训练周期：14 [51200/60000(85%)]\tLoss: 0.039860\t训练正确率：98.02%\t校验正确率：97.92%\n",
      "训练周期：14 [57600/60000(96%)]\tLoss: 0.083580\t训练正确率：98.02%\t校验正确率：98.02%\n",
      "训练周期：15 [0/60000(0%)]\tLoss: 0.045932\t训练正确率：96.88%\t校验正确率：97.84%\n",
      "训练周期：15 [6400/60000(11%)]\tLoss: 0.060985\t训练正确率：97.99%\t校验正确率：97.92%\n",
      "训练周期：15 [12800/60000(21%)]\tLoss: 0.034559\t训练正确率：98.06%\t校验正确率：97.78%\n",
      "训练周期：15 [19200/60000(32%)]\tLoss: 0.072657\t训练正确率：98.08%\t校验正确率：98.02%\n",
      "训练周期：15 [25600/60000(43%)]\tLoss: 0.025489\t训练正确率：98.03%\t校验正确率：98.18%\n",
      "训练周期：15 [32000/60000(53%)]\tLoss: 0.115449\t训练正确率：97.99%\t校验正确率：98.06%\n",
      "训练周期：15 [38400/60000(64%)]\tLoss: 0.040385\t训练正确率：98.03%\t校验正确率：98.02%\n",
      "训练周期：15 [44800/60000(75%)]\tLoss: 0.024033\t训练正确率：98.04%\t校验正确率：98.08%\n",
      "训练周期：15 [51200/60000(85%)]\tLoss: 0.040080\t训练正确率：98.09%\t校验正确率：97.94%\n",
      "训练周期：15 [57600/60000(96%)]\tLoss: 0.038075\t训练正确率：98.09%\t校验正确率：98.18%\n",
      "训练周期：16 [0/60000(0%)]\tLoss: 0.120012\t训练正确率：96.88%\t校验正确率：98.22%\n",
      "训练周期：16 [6400/60000(11%)]\tLoss: 0.043071\t训练正确率：98.05%\t校验正确率：97.98%\n",
      "训练周期：16 [12800/60000(21%)]\tLoss: 0.096927\t训练正确率：98.04%\t校验正确率：97.98%\n",
      "训练周期：16 [19200/60000(32%)]\tLoss: 0.052907\t训练正确率：98.03%\t校验正确率：98.10%\n",
      "训练周期：16 [25600/60000(43%)]\tLoss: 0.046045\t训练正确率：98.06%\t校验正确率：97.92%\n",
      "训练周期：16 [32000/60000(53%)]\tLoss: 0.081099\t训练正确率：98.13%\t校验正确率：98.04%\n",
      "训练周期：16 [38400/60000(64%)]\tLoss: 0.015035\t训练正确率：98.11%\t校验正确率：97.98%\n",
      "训练周期：16 [44800/60000(75%)]\tLoss: 0.031296\t训练正确率：98.12%\t校验正确率：97.98%\n",
      "训练周期：16 [51200/60000(85%)]\tLoss: 0.097604\t训练正确率：98.16%\t校验正确率：98.04%\n",
      "训练周期：16 [57600/60000(96%)]\tLoss: 0.016947\t训练正确率：98.17%\t校验正确率：98.10%\n",
      "训练周期：17 [0/60000(0%)]\tLoss: 0.114258\t训练正确率：98.44%\t校验正确率：97.96%\n",
      "训练周期：17 [6400/60000(11%)]\tLoss: 0.043304\t训练正确率：98.34%\t校验正确率：97.98%\n",
      "训练周期：17 [12800/60000(21%)]\tLoss: 0.105565\t训练正确率：98.33%\t校验正确率：98.06%\n",
      "训练周期：17 [19200/60000(32%)]\tLoss: 0.112369\t训练正确率：98.31%\t校验正确率：98.08%\n",
      "训练周期：17 [25600/60000(43%)]\tLoss: 0.185181\t训练正确率：98.32%\t校验正确率：98.16%\n",
      "训练周期：17 [32000/60000(53%)]\tLoss: 0.166621\t训练正确率：98.27%\t校验正确率：98.18%\n",
      "训练周期：17 [38400/60000(64%)]\tLoss: 0.085131\t训练正确率：98.27%\t校验正确率：98.02%\n",
      "训练周期：17 [44800/60000(75%)]\tLoss: 0.032713\t训练正确率：98.29%\t校验正确率：97.94%\n",
      "训练周期：17 [51200/60000(85%)]\tLoss: 0.118986\t训练正确率：98.29%\t校验正确率：97.92%\n",
      "训练周期：17 [57600/60000(96%)]\tLoss: 0.056529\t训练正确率：98.31%\t校验正确率：98.18%\n",
      "训练周期：18 [0/60000(0%)]\tLoss: 0.031159\t训练正确率：98.44%\t校验正确率：98.20%\n",
      "训练周期：18 [6400/60000(11%)]\tLoss: 0.037330\t训练正确率：97.94%\t校验正确率：98.24%\n",
      "训练周期：18 [12800/60000(21%)]\tLoss: 0.070358\t训练正确率：98.09%\t校验正确率：98.02%\n",
      "训练周期：18 [19200/60000(32%)]\tLoss: 0.077690\t训练正确率：98.17%\t校验正确率：98.12%\n",
      "训练周期：18 [25600/60000(43%)]\tLoss: 0.044110\t训练正确率：98.21%\t校验正确率：98.16%\n",
      "训练周期：18 [32000/60000(53%)]\tLoss: 0.054795\t训练正确率：98.25%\t校验正确率：98.16%\n",
      "训练周期：18 [38400/60000(64%)]\tLoss: 0.049354\t训练正确率：98.22%\t校验正确率：98.20%\n",
      "训练周期：18 [44800/60000(75%)]\tLoss: 0.031345\t训练正确率：98.26%\t校验正确率：98.28%\n",
      "训练周期：18 [51200/60000(85%)]\tLoss: 0.018970\t训练正确率：98.28%\t校验正确率：98.28%\n",
      "训练周期：18 [57600/60000(96%)]\tLoss: 0.023237\t训练正确率：98.29%\t校验正确率：98.14%\n",
      "训练周期：19 [0/60000(0%)]\tLoss: 0.003186\t训练正确率：100.00%\t校验正确率：98.14%\n",
      "训练周期：19 [6400/60000(11%)]\tLoss: 0.084830\t训练正确率：98.45%\t校验正确率：98.04%\n",
      "训练周期：19 [12800/60000(21%)]\tLoss: 0.028952\t训练正确率：98.36%\t校验正确率：98.18%\n",
      "训练周期：19 [19200/60000(32%)]\tLoss: 0.019019\t训练正确率：98.41%\t校验正确率：98.24%\n",
      "训练周期：19 [25600/60000(43%)]\tLoss: 0.104224\t训练正确率：98.45%\t校验正确率：97.96%\n",
      "训练周期：19 [32000/60000(53%)]\tLoss: 0.007319\t训练正确率：98.47%\t校验正确率：98.12%\n",
      "训练周期：19 [38400/60000(64%)]\tLoss: 0.074875\t训练正确率：98.45%\t校验正确率：97.92%\n",
      "训练周期：19 [44800/60000(75%)]\tLoss: 0.054974\t训练正确率：98.41%\t校验正确率：98.18%\n",
      "训练周期：19 [51200/60000(85%)]\tLoss: 0.055804\t训练正确率：98.39%\t校验正确率：98.08%\n",
      "训练周期：19 [57600/60000(96%)]\tLoss: 0.094181\t训练正确率：98.38%\t校验正确率：98.14%\n"
     ]
    }
   ],
   "source": [
    "record = []\n",
    "weights = []\n",
    "\n",
    "for epoch in range(num_epoches):\n",
    "    train_rights = []\n",
    "    for batch_idx, (data, target) in enumerate(train_loader):\n",
    "        data, target = Variable(data), Variable(target)\n",
    "        right, loss = train_model(data, target)\n",
    "        train_rights.append(right)\n",
    "\n",
    "        if batch_idx % 100 == 0:\n",
    "            val_rights = evaluate_model()\n",
    "            val_r = (sum([tup[0] for tup in val_rights]), sum([tup[1] for tup in val_rights]))\n",
    "\n",
    "            train_r = (sum([tup[0] for tup in train_rights]), sum([tup[1] for tup in train_rights]))\n",
    "\n",
    "            print('训练周期：{} [{}/{}({:.0f}%)]\\tLoss: {:.6f}\\t训练正确率：{:.2f}%\\t校验正确率：{:.2f}%'.format(\n",
    "                epoch, batch_idx*batch_size, len(train_loader.dataset), 100.*batch_idx/len(train_loader), loss.data,\n",
    "                100.*train_r[0].numpy()/train_r[1], 100.*val_r[0].numpy()/val_r[1]\n",
    "            ))\n",
    "            record.append((100-100.*train_r[0]/train_r[1], 100-100.*val_r[0]/val_r[1]))\n",
    "\n",
    "            weights.append([net.conv1.weight.data.clone(), net.conv1.bias.data.clone(),\n",
    "                            net.conv2.weight.data.clone(), net.conv2.bias.data.clone()])\n",
    "      "
   ]
  },
  {
   "cell_type": "code",
   "execution_count": 13,
   "metadata": {},
   "outputs": [
    {
     "data": {
      "text/plain": [
       "Text(0, 0.5, 'Error Rate')"
      ]
     },
     "execution_count": 13,
     "metadata": {},
     "output_type": "execute_result"
    },
    {
     "data": {
      "image/png": "[encoded data removed]",
      "text/plain": [
       "<Figure size 1000x700 with 1 Axes>"
      ]
     },
     "metadata": {},
     "output_type": "display_data"
    }
   ],
   "source": [
    "plt.figure(figsize=(10, 7))\n",
    "plt.plot(record)\n",
    "plt.xlabel('Steps')\n",
    "plt.ylabel('Error Rate')"
   ]
  },
  {
   "cell_type": "code",
   "execution_count": 15,
   "metadata": {},
   "outputs": [
    {
     "data": {
      "text/plain": [
       "0.9932"
      ]
     },
     "execution_count": 15,
     "metadata": {},
     "output_type": "execute_result"
    }
   ],
   "source": [
    "net.eval()\n",
    "vals = []\n",
    "\n",
    "for data, target in test_loader:\n",
    "    data, target = Variable(data, requires_grad=True), Variable(target)\n",
    "    output = net(data)\n",
    "    val = rightness(output, target)\n",
    "    vals.append(val)\n",
    "\n",
    "rights = (sum([tup[0] for tup in vals]), sum([tup[1] for tup in vals]))\n",
    "right_rate = 1.0 * rights[0].data.numpy() / rights[1]\n",
    "right_rate"
   ]
  },
  {
   "cell_type": "code",
   "execution_count": 16,
   "metadata": {},
   "outputs": [
    {
     "data": {
      "image/png": "[encoded data removed]",
      "text/plain": [
       "<Figure size 1000x700 with 4 Axes>"
      ]
     },
     "metadata": {},
     "output_type": "display_data"
    }
   ],
   "source": [
    "plt.figure(figsize = (10, 7))\n",
    "for i in range(4):\n",
    "    plt.subplot(1,4,i + 1)\n",
    "    plt.axis('off')\n",
    "    #提取第一层卷积核中的权重值，注意conv1是net的属性\n",
    "    plt.imshow(net.conv1.weight.data.numpy()[i,0,...])"
   ]
  },
  {
   "cell_type": "code",
   "execution_count": 17,
   "metadata": {},
   "outputs": [
    {
     "data": {
      "image/png": "[encoded data removed]",
      "text/plain": [
       "<Figure size 1000x700 with 4 Axes>"
      ]
     },
     "metadata": {},
     "output_type": "display_data"
    }
   ],
   "source": [
    "idx = 4\n",
    "# 首先定义读入的图片\n",
    "# 它是从 test_dataset 中提取第 idx 个批次的第 0 个图，其次 unsqueeze 的作用是在最前面添加一维\n",
    "# 目的是为了让这个 input_x 的 tensor 是四维的，这样才能输入给 net，补充的那一维表示 batch\n",
    "input_x = test_dataset[idx][0].unsqueeze(0) \n",
    "\n",
    "# 调用 net 的 retrieve_features 方法可以抽取出喂入当前数据后吐出来的所有特征图（第一个卷积和第二个卷积层）\n",
    "feature_maps = net.retrieve_features(Variable(input_x))\n",
    "# feature_maps 是有两个元素的列表，分别表示第一层和第二层卷积的所有特征图\n",
    "# 所以 feature_maps[0] 就是第一层卷积的特征图\n",
    "\n",
    "plt.figure(figsize = (10, 7))\n",
    "\n",
    "#有四个特征图，循环把它们打印出来\n",
    "for i in range(4):\n",
    "    plt.subplot(1,4,i + 1)\n",
    "    plt.axis('off')\n",
    "    plt.imshow(feature_maps[0][0, i,...].data.numpy())"
   ]
  },
  {
   "cell_type": "code",
   "execution_count": 18,
   "metadata": {},
   "outputs": [
    {
     "data": {
      "image/png": "[encoded data removed]",
      "text/plain": [
       "<Figure size 1500x1000 with 32 Axes>"
      ]
     },
     "metadata": {},
     "output_type": "display_data"
    }
   ],
   "source": [
    "plt.figure(figsize = (15, 10))\n",
    "for i in range(4):\n",
    "    for j in range(8):\n",
    "        plt.subplot(4, 8, i * 8 + j + 1)\n",
    "        plt.axis('off')\n",
    "        plt.imshow(net.conv2.weight.data.numpy()[j, i,...])"
   ]
  },
  {
   "cell_type": "code",
   "execution_count": 19,
   "metadata": {},
   "outputs": [
    {
     "name": "stdout",
     "output_type": "stream",
     "text": [
      "预测结果： tensor([4])\n"
     ]
    },
    {
     "data": {
      "image/png": "[encoded data removed]",
      "text/plain": [
       "<Figure size 640x480 with 1 Axes>"
      ]
     },
     "metadata": {},
     "output_type": "display_data"
    },
    {
     "data": {
      "image/png": "[encoded data removed]",
      "text/plain": [
       "<Figure size 1000x700 with 4 Axes>"
      ]
     },
     "metadata": {},
     "output_type": "display_data"
    },
    {
     "data": {
      "image/png": "[encoded data removed]",
      "text/plain": [
       "<Figure size 1000x700 with 8 Axes>"
      ]
     },
     "metadata": {},
     "output_type": "display_data"
    }
   ],
   "source": [
    "# 提取中test_dataset中的第idx个批次的第0个图的第0个通道对应的图像，定义为a。\n",
    "a = test_dataset[idx][0][0]\n",
    "\n",
    "# 平移后的新图像将放到b中。根据a给b赋值。\n",
    "b = torch.zeros(a.size()) #全0的28*28的矩阵\n",
    "w = 3 #平移的长度为3个像素\n",
    "\n",
    "# 对于b中的任意像素i,j，它等于a中的i,j+w这个位置的像素\n",
    "for i in range(a.size()[0]):\n",
    "    for j in range(0, a.size()[1] - w):\n",
    "        b[i, j] = a[i, j + w]\n",
    "\n",
    "# 将b画出来\n",
    "muteimg = b.numpy()\n",
    "plt.axis('off')\n",
    "plt.imshow(muteimg)\n",
    "\n",
    "# 把b喂给神经网络，得到分类结果pred（prediction是预测的每一个类别的概率的对数值），并把结果打印出来\n",
    "prediction = net(Variable(b.unsqueeze(0).unsqueeze(0)))\n",
    "pred = torch.max(prediction.data, 1)[1]\n",
    "print('预测结果：', pred)\n",
    "\n",
    "#提取b对应的featuremap结果\n",
    "feature_maps = net.retrieve_features(Variable(b.unsqueeze(0).unsqueeze(0)))\n",
    "\n",
    "plt.figure(figsize = (10, 7))\n",
    "for i in range(4):\n",
    "    plt.subplot(1,4,i + 1)\n",
    "    plt.axis('off')\n",
    "    plt.imshow(feature_maps[0][0, i,...].data.numpy())\n",
    "\n",
    "plt.figure(figsize = (10, 7))\n",
    "for i in range(8):\n",
    "    plt.subplot(2,4,i + 1)\n",
    "    plt.axis('off')\n",
    "\n",
    "    plt.imshow(feature_maps[1][0, i,...].data.numpy())"
   ]
  }
 ],
 "metadata": {
  "kernelspec": {
   "display_name": "Python 3 (ipykernel)",
   "language": "python",
   "name": "python3"
  },
  "language_info": {
   "codemirror_mode": {
    "name": "ipython",
    "version": 3
   },
   "file_extension": ".py",
   "mimetype": "text/x-python",
   "name": "python",
   "nbconvert_exporter": "python",
   "pygments_lexer": "ipython3",
   "version": "3.8.13"
  },
  "orig_nbformat": 4,
  "vscode": {
   "interpreter": {
    "hash": "8ec33b1887068897f18cc2ff08dd120200387ae2fb0ae985e2063e20a7e9ffad"
   }
  }
 },
 "nbformat": 4,
 "nbformat_minor": 2
}
